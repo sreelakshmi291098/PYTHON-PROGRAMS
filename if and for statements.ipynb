{
 "cells": [
  {
   "cell_type": "code",
   "execution_count": 1,
   "id": "0a9f1ba1",
   "metadata": {},
   "outputs": [
    {
     "name": "stdout",
     "output_type": "stream",
     "text": [
      "Enter the number25\n",
      "The given number is multiply of 5\n"
     ]
    }
   ],
   "source": [
    "a=int(input(\"Enter the number\"))\n",
    "if((a % 5)==0):\n",
    "    print(\"The given number is multiply of 5\")\n",
    "else:\n",
    "    print(\"The given number is not multiply of 5\")"
   ]
  },
  {
   "cell_type": "code",
   "execution_count": 2,
   "id": "972afe41",
   "metadata": {},
   "outputs": [
    {
     "name": "stdout",
     "output_type": "stream",
     "text": [
      "Enter the amount :8000\n",
      "800.0\n"
     ]
    }
   ],
   "source": [
    "a=int(input(\"Enter the amount :\"))\n",
    "if(a>1000):\n",
    "    disc=a*0.10\n",
    "    print(disc)  \n",
    "else:\n",
    "    print(a)"
   ]
  },
  {
   "cell_type": "code",
   "execution_count": 3,
   "id": "19e8c3d7",
   "metadata": {},
   "outputs": [
    {
     "name": "stdout",
     "output_type": "stream",
     "text": [
      "Enter the age :23\n",
      "Eligible for vote\n"
     ]
    }
   ],
   "source": [
    "a=int(input(\"Enter the age :\"))\n",
    "if (a>=25):\n",
    "    print(\"Eligible for contest an election\")\n",
    "elif(a>=18):\n",
    "    print(\"Eligible for vote\")\n",
    "else:\n",
    "    print(\"Not eligible\")"
   ]
  },
  {
   "cell_type": "code",
   "execution_count": 4,
   "id": "23da4e42",
   "metadata": {},
   "outputs": [
    {
     "name": "stdout",
     "output_type": "stream",
     "text": [
      "Enter the year :2020\n",
      "It is leap year\n"
     ]
    }
   ],
   "source": [
    "a=int(input(\"Enter the year :\"))\n",
    "if(a % 400==0)or(a % 100!=0)and(a % 4==0):\n",
    "    print(\"It is leap year\")\n",
    "else:\n",
    "    print(\"It is not leap year\")\n",
    "    "
   ]
  },
  {
   "cell_type": "code",
   "execution_count": null,
   "id": "5a213416",
   "metadata": {},
   "outputs": [],
   "source": []
  }
 ],
 "metadata": {
  "kernelspec": {
   "display_name": "Python 3 (ipykernel)",
   "language": "python",
   "name": "python3"
  },
  "language_info": {
   "codemirror_mode": {
    "name": "ipython",
    "version": 3
   },
   "file_extension": ".py",
   "mimetype": "text/x-python",
   "name": "python",
   "nbconvert_exporter": "python",
   "pygments_lexer": "ipython3",
   "version": "3.9.12"
  }
 },
 "nbformat": 4,
 "nbformat_minor": 5
}
