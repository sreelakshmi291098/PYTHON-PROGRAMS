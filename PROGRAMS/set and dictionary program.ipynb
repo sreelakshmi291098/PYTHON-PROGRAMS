{
 "cells": [
  {
   "cell_type": "code",
   "execution_count": 1,
   "id": "8f7c72d9",
   "metadata": {},
   "outputs": [
    {
     "name": "stdout",
     "output_type": "stream",
     "text": [
      "{'ammu', 'anu'}\n"
     ]
    }
   ],
   "source": [
    "a={\"anu\",\"ammu\"}\n",
    "print(a)"
   ]
  },
  {
   "cell_type": "code",
   "execution_count": 2,
   "id": "19ef72ed",
   "metadata": {},
   "outputs": [
    {
     "name": "stdout",
     "output_type": "stream",
     "text": [
      "{'ammu', 'anu', 'heloo'}\n"
     ]
    }
   ],
   "source": [
    "a={\"anu\",\"ammu\"}\n",
    "a.add(\"heloo\")\n",
    "print(a)"
   ]
  },
  {
   "cell_type": "code",
   "execution_count": 3,
   "id": "00bac621",
   "metadata": {},
   "outputs": [
    {
     "name": "stdout",
     "output_type": "stream",
     "text": [
      "{'ammu', 'anu', 'sree'}\n"
     ]
    }
   ],
   "source": [
    "a={\"anu\",\"ammu\",\"appu\",\"sree\"}\n",
    "a.remove(\"appu\")\n",
    "print(a)"
   ]
  },
  {
   "cell_type": "code",
   "execution_count": 35,
   "id": "8a34ffd3",
   "metadata": {},
   "outputs": [
    {
     "name": "stdout",
     "output_type": "stream",
     "text": [
      "ammu\n",
      "appu\n",
      "anu\n",
      "sree\n"
     ]
    }
   ],
   "source": [
    "a={\"anu\",\"ammu\",\"appu\",\"sree\"}\n",
    "for i in a:\n",
    "    print(i)"
   ]
  },
  {
   "cell_type": "code",
   "execution_count": 5,
   "id": "68fc26af",
   "metadata": {},
   "outputs": [
    {
     "data": {
      "text/plain": [
       "{23, 34, 'ammu', 'anu', 'appu', 'sree'}"
      ]
     },
     "execution_count": 5,
     "metadata": {},
     "output_type": "execute_result"
    }
   ],
   "source": [
    "a={\"anu\",\"ammu\",\"appu\",\"sree\"}\n",
    "b={23,34,\"appu\",\"ammu\"}\n",
    "a.union(b)"
   ]
  },
  {
   "cell_type": "code",
   "execution_count": 6,
   "id": "8da7b3e8",
   "metadata": {},
   "outputs": [
    {
     "data": {
      "text/plain": [
       "{'ammu', 'appu'}"
      ]
     },
     "execution_count": 6,
     "metadata": {},
     "output_type": "execute_result"
    }
   ],
   "source": [
    "a.intersection(b)"
   ]
  },
  {
   "cell_type": "code",
   "execution_count": 7,
   "id": "95ed1abb",
   "metadata": {},
   "outputs": [
    {
     "data": {
      "text/plain": [
       "{'anu', 'sree'}"
      ]
     },
     "execution_count": 7,
     "metadata": {},
     "output_type": "execute_result"
    }
   ],
   "source": [
    "a.difference(b)"
   ]
  },
  {
   "cell_type": "code",
   "execution_count": 9,
   "id": "22b6766b",
   "metadata": {},
   "outputs": [
    {
     "data": {
      "text/plain": [
       "True"
      ]
     },
     "execution_count": 9,
     "metadata": {},
     "output_type": "execute_result"
    }
   ],
   "source": [
    "a={\"anu\",\"ammu\"}\n",
    "a.issubset(set([23,\"anu\",34,67,\"ammu\",\"appu\"]))"
   ]
  },
  {
   "cell_type": "code",
   "execution_count": 15,
   "id": "694a7cc9",
   "metadata": {},
   "outputs": [
    {
     "name": "stdout",
     "output_type": "stream",
     "text": [
      "set()\n"
     ]
    }
   ],
   "source": [
    "a={\"anu\",\"ammu\",\"appu\",\"sree\"}\n",
    "a.clear()\n",
    "print(a)"
   ]
  },
  {
   "cell_type": "code",
   "execution_count": 16,
   "id": "61dee7df",
   "metadata": {},
   "outputs": [
    {
     "data": {
      "text/plain": [
       "4"
      ]
     },
     "execution_count": 16,
     "metadata": {},
     "output_type": "execute_result"
    }
   ],
   "source": [
    "a={\"anu\",\"ammu\",\"appu\",\"sree\"}\n",
    "len(a)"
   ]
  },
  {
   "cell_type": "code",
   "execution_count": 17,
   "id": "2fa12232",
   "metadata": {},
   "outputs": [
    {
     "name": "stdout",
     "output_type": "stream",
     "text": [
      "{'name': 'sree', 'age': 23, 'dept': 'cs', 'song': 'heloworld'}\n"
     ]
    }
   ],
   "source": [
    "a={\"name\":\"sree\",\"age\":23,\"dept\":\"cs\"}\n",
    "a[\"song\"]=\"heloworld\"\n",
    "print(a)"
   ]
  },
  {
   "cell_type": "code",
   "execution_count": 20,
   "id": "4e6bf5af",
   "metadata": {},
   "outputs": [
    {
     "name": "stdout",
     "output_type": "stream",
     "text": [
      "{'name': 'sree', 'age': 23, 'dept': 'cs', 'song': 'heloworld'}\n"
     ]
    }
   ],
   "source": [
    "a={\"name\":\"sree\",\"age\":23,\"dept\":\"cs\"}\n",
    "a[\"song\"]=\"heloworld\"\n",
    "print(a)"
   ]
  },
  {
   "cell_type": "code",
   "execution_count": 29,
   "id": "5801fd89",
   "metadata": {
    "scrolled": true
   },
   "outputs": [
    {
     "name": "stdout",
     "output_type": "stream",
     "text": [
      "95\n"
     ]
    }
   ],
   "source": [
    "a={\"d1\":25,\"d2\":60,\"d3\":10}\n",
    "print(sum(a.values()))"
   ]
  },
  {
   "cell_type": "code",
   "execution_count": 21,
   "id": "1beaa5d1",
   "metadata": {},
   "outputs": [
    {
     "name": "stdout",
     "output_type": "stream",
     "text": [
      "{'name': 'sree', 'age': 23}\n"
     ]
    }
   ],
   "source": [
    "a={\"name\":\"sree\",\"age\":23,\"dept\":\"cs\"}\n",
    "del a[\"dept\"]\n",
    "print(a)"
   ]
  },
  {
   "cell_type": "code",
   "execution_count": 22,
   "id": "4676c15d",
   "metadata": {},
   "outputs": [
    {
     "data": {
      "text/plain": [
       "set()"
      ]
     },
     "execution_count": 22,
     "metadata": {},
     "output_type": "execute_result"
    }
   ],
   "source": [
    "a={\"anu\",\"ammu\",\"appu\",\"sree\"}\n",
    "b={23,34,5}\n",
    "a.intersection(b)"
   ]
  },
  {
   "cell_type": "code",
   "execution_count": 23,
   "id": "034f7e2e",
   "metadata": {},
   "outputs": [
    {
     "name": "stdout",
     "output_type": "stream",
     "text": [
      "{'ammu', 'appu', 'anu', 'sree'}\n"
     ]
    }
   ],
   "source": [
    "a={\"anu\",\"ammu\",\"appu\",\"sree\"}\n",
    "b=a.copy()\n",
    "print(b)"
   ]
  },
  {
   "cell_type": "code",
   "execution_count": 34,
   "id": "b95c0054",
   "metadata": {},
   "outputs": [
    {
     "name": "stdout",
     "output_type": "stream",
     "text": [
      "dict_values([25, 60, 10])\n",
      "15000\n"
     ]
    }
   ],
   "source": [
    "t=1\n",
    "a={\"d1\":25,\"d2\":60,\"d3\":10}\n",
    "print((a.values()))\n",
    "for i in a.values():\n",
    "    t=t*i\n",
    "print(t)\n"
   ]
  },
  {
   "cell_type": "code",
   "execution_count": null,
   "id": "284f55b9",
   "metadata": {},
   "outputs": [],
   "source": []
  }
 ],
 "metadata": {
  "kernelspec": {
   "display_name": "Python 3 (ipykernel)",
   "language": "python",
   "name": "python3"
  },
  "language_info": {
   "codemirror_mode": {
    "name": "ipython",
    "version": 3
   },
   "file_extension": ".py",
   "mimetype": "text/x-python",
   "name": "python",
   "nbconvert_exporter": "python",
   "pygments_lexer": "ipython3",
   "version": "3.9.12"
  }
 },
 "nbformat": 4,
 "nbformat_minor": 5
}
