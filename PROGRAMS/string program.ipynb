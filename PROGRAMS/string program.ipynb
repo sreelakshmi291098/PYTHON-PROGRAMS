{
 "cells": [
  {
   "cell_type": "code",
   "execution_count": 2,
   "id": "07fd7c1a",
   "metadata": {},
   "outputs": [
    {
     "name": "stdout",
     "output_type": "stream",
     "text": [
      "Enter a string: hello\n",
      "Length of the input string is: 5\n"
     ]
    }
   ],
   "source": [
    "a = input(\"Enter a string: \")\n",
    "count = 0\n",
    "for s in a:\n",
    "      count = count+1\n",
    "print(\"Length of the input string is:\", count)"
   ]
  },
  {
   "cell_type": "code",
   "execution_count": 3,
   "id": "17fd60a5",
   "metadata": {},
   "outputs": [
    {
     "name": "stdout",
     "output_type": "stream",
     "text": [
      "My name is sreelakshmi\n",
      "SREELAKSHMI\n",
      "sreelakshmi\n"
     ]
    }
   ],
   "source": [
    "a = input(\"My name is \")\n",
    "print( a.upper())\n",
    "print( a.lower())"
   ]
  },
  {
   "cell_type": "code",
   "execution_count": 4,
   "id": "c83b05d5",
   "metadata": {},
   "outputs": [
    {
     "name": "stdout",
     "output_type": "stream",
     "text": [
      "2\n"
     ]
    }
   ],
   "source": [
    "count=0\n",
    "a=\"Name is sreelakshmi\"\n",
    "b=\"a\"\n",
    "for i in a:\n",
    "    if(i==b):\n",
    "        count=count+1\n",
    "print(count)        \n"
   ]
  },
  {
   "cell_type": "code",
   "execution_count": null,
   "id": "a024b916",
   "metadata": {},
   "outputs": [],
   "source": []
  }
 ],
 "metadata": {
  "kernelspec": {
   "display_name": "Python 3 (ipykernel)",
   "language": "python",
   "name": "python3"
  },
  "language_info": {
   "codemirror_mode": {
    "name": "ipython",
    "version": 3
   },
   "file_extension": ".py",
   "mimetype": "text/x-python",
   "name": "python",
   "nbconvert_exporter": "python",
   "pygments_lexer": "ipython3",
   "version": "3.9.12"
  }
 },
 "nbformat": 4,
 "nbformat_minor": 5
}
