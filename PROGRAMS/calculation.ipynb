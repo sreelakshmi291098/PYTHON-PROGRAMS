{
 "cells": [
  {
   "cell_type": "code",
   "execution_count": 1,
   "id": "5efb2801",
   "metadata": {},
   "outputs": [
    {
     "name": "stdout",
     "output_type": "stream",
     "text": [
      "b is greater\n"
     ]
    }
   ],
   "source": [
    "a=8\n",
    "b=10\n",
    "c=2\n",
    "if(a>b) and (a>c):\n",
    "    print(\"a is greater\")\n",
    "elif(b>a) and (b>c):\n",
    "    print(\"b is greater\")\n",
    "else:\n",
    "    print(\"c is greater\")"
   ]
  },
  {
   "cell_type": "code",
   "execution_count": 2,
   "id": "53f48a4f",
   "metadata": {},
   "outputs": [
    {
     "name": "stdout",
     "output_type": "stream",
     "text": [
      "10\n"
     ]
    }
   ],
   "source": [
    "x=5\n",
    "y=5\n",
    "print(x+y)"
   ]
  },
  {
   "cell_type": "code",
   "execution_count": 3,
   "id": "f086bc30",
   "metadata": {},
   "outputs": [
    {
     "name": "stdout",
     "output_type": "stream",
     "text": [
      "Enter a number-2\n",
      "negatine number\n"
     ]
    }
   ],
   "source": [
    "a=int(input(\"Enter a number\"))\n",
    "if(a>0):\n",
    "    print(\"positive number\")\n",
    "elif(a==0):\n",
    "    print(\"zero\")\n",
    "else:\n",
    "    print(\"negatine number\")"
   ]
  },
  {
   "cell_type": "code",
   "execution_count": 4,
   "id": "86b022a5",
   "metadata": {},
   "outputs": [
    {
     "name": "stdout",
     "output_type": "stream",
     "text": [
      "Enter a number4\n",
      "Number is even\n"
     ]
    }
   ],
   "source": [
    "a=int(input(\"Enter a number\"))\n",
    "if(a%2==0):\n",
    "    print(\"Number is even\")\n",
    "else:\n",
    "    print(\"Number is odd\")"
   ]
  },
  {
   "cell_type": "code",
   "execution_count": 6,
   "id": "68027082",
   "metadata": {},
   "outputs": [
    {
     "name": "stdout",
     "output_type": "stream",
     "text": [
      "Enter the mark of first subject95\n",
      "Enter the mark of second subject50\n",
      "Enter the mark of third subject66\n",
      "Enter the mark of fourth subject78\n",
      "Enter the mark of fifth subject45\n",
      "Grade: D\n"
     ]
    }
   ],
   "source": [
    "s1=int(input(\"Enter the mark of first subject\"))\n",
    "s2=int(input(\"Enter the mark of second subject\"))\n",
    "s3=int(input(\"Enter the mark of third subject\"))\n",
    "s4=int(input(\"Enter the mark of fourth subject\"))\n",
    "s5=int(input(\"Enter the mark of fifth subject\"))\n",
    "avg=(s1+s2+s3+s4+s5)/5\n",
    "if(avg>=90 and avg<=100):\n",
    "    print(\"Grade: A\")\n",
    "elif(avg>=80 and avg<90):\n",
    "    print(\"Grade: B\")\n",
    "elif(avg>=70 and avg<80):\n",
    "    print(\"Grade: C\")\n",
    "elif(avg>=60 and avg<70):\n",
    "    print(\"Grade: D\")\n",
    "else:\n",
    "    print(\"Grade: F\")\n",
    "    \n"
   ]
  },
  {
   "cell_type": "code",
   "execution_count": null,
   "id": "4def656a",
   "metadata": {},
   "outputs": [],
   "source": []
  }
 ],
 "metadata": {
  "kernelspec": {
   "display_name": "Python 3 (ipykernel)",
   "language": "python",
   "name": "python3"
  },
  "language_info": {
   "codemirror_mode": {
    "name": "ipython",
    "version": 3
   },
   "file_extension": ".py",
   "mimetype": "text/x-python",
   "name": "python",
   "nbconvert_exporter": "python",
   "pygments_lexer": "ipython3",
   "version": "3.9.12"
  }
 },
 "nbformat": 4,
 "nbformat_minor": 5
}
